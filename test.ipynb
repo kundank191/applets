{
 "cells": [
  {
   "cell_type": "code",
   "execution_count": 1,
   "metadata": {},
   "outputs": [],
   "source": [
    "import os\n",
    "from time import sleep\n",
    "from pandas import DataFrame\n",
    "from bs4 import BeautifulSoup\n",
    "from selenium import webdriver\n",
    "from selenium.webdriver.chrome.options import Options\n",
    "from selenium.common.exceptions import StaleElementReferenceException\n",
    "from selenium.webdriver.common.by import By"
   ]
  },
  {
   "cell_type": "code",
   "execution_count": 2,
   "metadata": {},
   "outputs": [],
   "source": [
    "\n",
    "chrome_options = Options()\n",
    "chrome_options.add_argument(\"--no-sandbox\")  # Bypass OS security model\n",
    "chrome_options.add_argument(\"--user-agent=Mozilla/5.0 (Windows NT 10.0; Win64; x64) AppleWebKit/537.36 (KHTML, like Gecko) Chrome/95.0.4638.54 Safari/537.36\")\n",
    "#chrome_options.add_argument(\"--headless\") # uncomment this to use chrome in headless mode\n",
    "chrome_options.add_argument(\"window-size=1024,768\")  # Open Browser in maximized mode\n",
    "chrome_options.add_argument(\"disable-infobars\")  # Disabling infobars\n",
    "chrome_options.add_argument(\"--disable-extensions\")  # Disabling extensions\n",
    "chrome_options.add_argument(\"--disable-dev-shm-usage\")  # Overcome limited resource problems\n",
    "chrome_options.add_experimental_option(\"prefs\", {'download.default_directory': os.environ['DOWNLOAD_LOCATION']})"
   ]
  },
  {
   "cell_type": "code",
   "execution_count": 7,
   "metadata": {},
   "outputs": [],
   "source": [
    "import unacademy_scraper.ua_consts as ua_consts"
   ]
  },
  {
   "cell_type": "code",
   "execution_count": 23,
   "metadata": {},
   "outputs": [],
   "source": [
    "# initiate a headless chrome\n",
    "driver = webdriver.Chrome(options=chrome_options, executable_path= os.environ['CHROME_DRIVER'])"
   ]
  },
  {
   "cell_type": "code",
   "execution_count": 24,
   "metadata": {},
   "outputs": [],
   "source": [
    "driver.get(ua_consts.UA_BASE_URL)"
   ]
  },
  {
   "cell_type": "code",
   "execution_count": 26,
   "metadata": {},
   "outputs": [],
   "source": [
    "login_button = driver.find_element_by_css_selector('.e13239452')\n",
    "login_button.click()"
   ]
  },
  {
   "cell_type": "code",
   "execution_count": 28,
   "metadata": {},
   "outputs": [],
   "source": [
    "# Locate the input field using the placeholder attribute\n",
    "mobile_input_field = driver.find_element_by_css_selector('input[placeholder=\"Enter your mobile number\"]')\n",
    "\n",
    "# Take mobile number from user\n",
    "mobile_number = input(\"Enter Mobile Number : \")\n",
    "\n",
    "# Insert the mobile number\n",
    "mobile_input_field.send_keys(mobile_number)"
   ]
  },
  {
   "cell_type": "code",
   "execution_count": 29,
   "metadata": {},
   "outputs": [],
   "source": [
    "request_otp_button = driver.find_element_by_css_selector('.ehkw11q4.aquilla-button.button.css-1dik306-SendOtp')\n",
    "request_otp_button.click()"
   ]
  },
  {
   "cell_type": "code",
   "execution_count": 32,
   "metadata": {},
   "outputs": [],
   "source": [
    "otp = input(\"Enter OTP : \")"
   ]
  },
  {
   "cell_type": "code",
   "execution_count": 33,
   "metadata": {},
   "outputs": [
    {
     "ename": "IndexError",
     "evalue": "list index out of range",
     "output_type": "error",
     "traceback": [
      "\u001b[1;31m---------------------------------------------------------------------------\u001b[0m",
      "\u001b[1;31mIndexError\u001b[0m                                Traceback (most recent call last)",
      "Cell \u001b[1;32mIn[33], line 6\u001b[0m\n\u001b[0;32m      4\u001b[0m \u001b[39m# Populate each field with a digit from the OTP\u001b[39;00m\n\u001b[0;32m      5\u001b[0m \u001b[39mfor\u001b[39;00m i, digit \u001b[39min\u001b[39;00m \u001b[39menumerate\u001b[39m(otp):\n\u001b[1;32m----> 6\u001b[0m     otp_fields[i]\u001b[39m.\u001b[39msend_keys(digit)\n",
      "\u001b[1;31mIndexError\u001b[0m: list index out of range"
     ]
    }
   ],
   "source": [
    "# Locate all OTP input fields using CSS selector\n",
    "otp_fields = driver.find_elements_by_css_selector('.aquilla-otpinput-inputfield.otpinput-inputfield.css-d9udvv')\n",
    "\n",
    "# Populate each field with a digit from the OTP\n",
    "for i, digit in enumerate(otp):\n",
    "    otp_fields[i].send_keys(digit)"
   ]
  },
  {
   "cell_type": "code",
   "execution_count": 22,
   "metadata": {},
   "outputs": [],
   "source": [
    "driver.get(ua_consts.COURSE_LINK_INTRUMENTATION_AND_PROCESS_CONTROL)"
   ]
  },
  {
   "cell_type": "code",
   "execution_count": null,
   "metadata": {},
   "outputs": [],
   "source": []
  }
 ],
 "metadata": {
  "kernelspec": {
   "display_name": "python39",
   "language": "python",
   "name": "python3"
  },
  "language_info": {
   "codemirror_mode": {
    "name": "ipython",
    "version": 3
   },
   "file_extension": ".py",
   "mimetype": "text/x-python",
   "name": "python",
   "nbconvert_exporter": "python",
   "pygments_lexer": "ipython3",
   "version": "3.9.17"
  },
  "orig_nbformat": 4
 },
 "nbformat": 4,
 "nbformat_minor": 2
}
